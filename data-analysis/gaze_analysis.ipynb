{
 "metadata": {
  "language_info": {
   "codemirror_mode": {
    "name": "ipython",
    "version": 3
   },
   "file_extension": ".py",
   "mimetype": "text/x-python",
   "name": "python",
   "nbconvert_exporter": "python",
   "pygments_lexer": "ipython3",
   "version": "3.7.8-final"
  },
  "orig_nbformat": 2,
  "kernelspec": {
   "name": "python_defaultSpec_1598427434273",
   "display_name": "Python 3.7.8 64-bit ('base': conda)"
  }
 },
 "nbformat": 4,
 "nbformat_minor": 2,
 "cells": [
  {
   "cell_type": "code",
   "execution_count": 1,
   "metadata": {
    "tags": []
   },
   "outputs": [
    {
     "output_type": "stream",
     "name": "stdout",
     "text": "participants names:  ['yz', 'yq', 'hw', 'yx', 'lf', 'huy', 'hu', 'xiao', 'jt', 'mr', 'dao', 'lr', 'mh', 'an', 'ts', 'co']\nparticipant num:  16\n"
    }
   ],
   "source": [
    "import pandas as pd\n",
    "import seaborn as sns\n",
    "import matplotlib.pyplot as plt\n",
    "import matplotlib.image as mpimg\n",
    "import numpy as np\n",
    "from gaze_utility import calculate_dist_and_veloc\n",
    "from fixation import generate_IVT_fixation\n",
    "from preprocessing import remove_outlier_by_z, get_participant_names\n",
    "\n",
    "data_path = 'data/'\n",
    "exp_img_path = 'exp-img/'\n",
    "xn = 'GazeX'\n",
    "yn = 'GazeY'\n",
    "\n",
    "# get participant names\n",
    "names = get_participant_names(data_path)\n",
    "print('participants names: ', names)\n",
    "print('participant num: ', len(names))"
   ]
  },
  {
   "cell_type": "code",
   "execution_count": 2,
   "metadata": {},
   "outputs": [
    {
     "output_type": "error",
     "ename": "FileNotFoundError",
     "evalue": "[Errno 2] No such file or directory: './rank_result/click_rank_result.csv'",
     "traceback": [
      "\u001b[0;31m---------------------------------------------------------------------------\u001b[0m",
      "\u001b[0;31mFileNotFoundError\u001b[0m                         Traceback (most recent call last)",
      "\u001b[0;32m<ipython-input-2-539e60616b24>\u001b[0m in \u001b[0;36m<module>\u001b[0;34m\u001b[0m\n\u001b[1;32m      9\u001b[0m \u001b[0;31m# - click rank\u001b[0m\u001b[0;34m\u001b[0m\u001b[0;34m\u001b[0m\u001b[0;34m\u001b[0m\u001b[0m\n\u001b[1;32m     10\u001b[0m \u001b[0mclick_rank_files\u001b[0m \u001b[0;34m=\u001b[0m \u001b[0;34m[\u001b[0m\u001b[0mf\u001b[0m \u001b[0;32mfor\u001b[0m \u001b[0mf\u001b[0m \u001b[0;32min\u001b[0m \u001b[0mos\u001b[0m\u001b[0;34m.\u001b[0m\u001b[0mlistdir\u001b[0m\u001b[0;34m(\u001b[0m\u001b[0mdata_path\u001b[0m\u001b[0;34m)\u001b[0m \u001b[0;32mif\u001b[0m \u001b[0;34m\"click_rank\"\u001b[0m \u001b[0;32min\u001b[0m \u001b[0mf\u001b[0m\u001b[0;34m]\u001b[0m\u001b[0;34m\u001b[0m\u001b[0;34m\u001b[0m\u001b[0m\n\u001b[0;32m---> 11\u001b[0;31m \u001b[0mgenerate_click_rank\u001b[0m\u001b[0;34m(\u001b[0m\u001b[0mdata_path\u001b[0m\u001b[0;34m,\u001b[0m \u001b[0mclick_rank_files\u001b[0m\u001b[0;34m)\u001b[0m\u001b[0;34m\u001b[0m\u001b[0;34m\u001b[0m\u001b[0m\n\u001b[0m\u001b[1;32m     12\u001b[0m \u001b[0;31m# - general rank\u001b[0m\u001b[0;34m\u001b[0m\u001b[0;34m\u001b[0m\u001b[0;34m\u001b[0m\u001b[0m\n\u001b[1;32m     13\u001b[0m \u001b[0mpairwise_rank_files\u001b[0m \u001b[0;34m=\u001b[0m \u001b[0;34m[\u001b[0m\u001b[0mf\u001b[0m \u001b[0;32mfor\u001b[0m \u001b[0mf\u001b[0m \u001b[0;32min\u001b[0m \u001b[0mos\u001b[0m\u001b[0;34m.\u001b[0m\u001b[0mlistdir\u001b[0m\u001b[0;34m(\u001b[0m\u001b[0mdata_path\u001b[0m\u001b[0;34m)\u001b[0m \u001b[0;32mif\u001b[0m \u001b[0;34m\"pairwise_rank\"\u001b[0m \u001b[0;32min\u001b[0m \u001b[0mf\u001b[0m\u001b[0;34m]\u001b[0m\u001b[0;34m\u001b[0m\u001b[0;34m\u001b[0m\u001b[0m\n",
      "\u001b[0;32m~/localcode/Gaze-on-Grid/data-analysis/rank_utility.py\u001b[0m in \u001b[0;36mgenerate_click_rank\u001b[0;34m(data_path, click_rank_files)\u001b[0m\n\u001b[1;32m    120\u001b[0m \u001b[0;34m\u001b[0m\u001b[0m\n\u001b[1;32m    121\u001b[0m     \u001b[0mdf\u001b[0m \u001b[0;34m=\u001b[0m \u001b[0mpd\u001b[0m\u001b[0;34m.\u001b[0m\u001b[0mDataFrame\u001b[0m\u001b[0;34m(\u001b[0m\u001b[0mclick_rank_result\u001b[0m\u001b[0;34m,\u001b[0m \u001b[0mcolumns\u001b[0m\u001b[0;34m=\u001b[0m\u001b[0;34m[\u001b[0m\u001b[0;34m\"tester\"\u001b[0m\u001b[0;34m,\u001b[0m \u001b[0;34m\"click_grid_1_rank\"\u001b[0m\u001b[0;34m,\u001b[0m \u001b[0;34m\"click_grid_2_rank\"\u001b[0m\u001b[0;34m]\u001b[0m\u001b[0;34m)\u001b[0m\u001b[0;34m\u001b[0m\u001b[0;34m\u001b[0m\u001b[0m\n\u001b[0;32m--> 122\u001b[0;31m     \u001b[0mdf\u001b[0m\u001b[0;34m.\u001b[0m\u001b[0mto_csv\u001b[0m \u001b[0;34m(\u001b[0m\u001b[0;34m\"./rank_result/click_rank_result.csv\"\u001b[0m\u001b[0;34m,\u001b[0m \u001b[0mindex\u001b[0m \u001b[0;34m=\u001b[0m \u001b[0;32mFalse\u001b[0m\u001b[0;34m,\u001b[0m \u001b[0mheader\u001b[0m\u001b[0;34m=\u001b[0m\u001b[0;32mTrue\u001b[0m\u001b[0;34m)\u001b[0m\u001b[0;34m\u001b[0m\u001b[0;34m\u001b[0m\u001b[0m\n\u001b[0m\u001b[1;32m    123\u001b[0m \u001b[0;34m\u001b[0m\u001b[0m\n\u001b[1;32m    124\u001b[0m \u001b[0;34m\u001b[0m\u001b[0m\n",
      "\u001b[0;32m/usr/local/Caskroom/miniconda/base/lib/python3.7/site-packages/pandas/core/generic.py\u001b[0m in \u001b[0;36mto_csv\u001b[0;34m(self, path_or_buf, sep, na_rep, float_format, columns, header, index, index_label, mode, encoding, compression, quoting, quotechar, line_terminator, chunksize, date_format, doublequote, escapechar, decimal, errors)\u001b[0m\n\u001b[1;32m   3165\u001b[0m             \u001b[0mdecimal\u001b[0m\u001b[0;34m=\u001b[0m\u001b[0mdecimal\u001b[0m\u001b[0;34m,\u001b[0m\u001b[0;34m\u001b[0m\u001b[0;34m\u001b[0m\u001b[0m\n\u001b[1;32m   3166\u001b[0m         )\n\u001b[0;32m-> 3167\u001b[0;31m         \u001b[0mformatter\u001b[0m\u001b[0;34m.\u001b[0m\u001b[0msave\u001b[0m\u001b[0;34m(\u001b[0m\u001b[0;34m)\u001b[0m\u001b[0;34m\u001b[0m\u001b[0;34m\u001b[0m\u001b[0m\n\u001b[0m\u001b[1;32m   3168\u001b[0m \u001b[0;34m\u001b[0m\u001b[0m\n\u001b[1;32m   3169\u001b[0m         \u001b[0;32mif\u001b[0m \u001b[0mpath_or_buf\u001b[0m \u001b[0;32mis\u001b[0m \u001b[0;32mNone\u001b[0m\u001b[0;34m:\u001b[0m\u001b[0;34m\u001b[0m\u001b[0;34m\u001b[0m\u001b[0m\n",
      "\u001b[0;32m/usr/local/Caskroom/miniconda/base/lib/python3.7/site-packages/pandas/io/formats/csvs.py\u001b[0m in \u001b[0;36msave\u001b[0;34m(self)\u001b[0m\n\u001b[1;32m    188\u001b[0m                 \u001b[0mencoding\u001b[0m\u001b[0;34m=\u001b[0m\u001b[0mself\u001b[0m\u001b[0;34m.\u001b[0m\u001b[0mencoding\u001b[0m\u001b[0;34m,\u001b[0m\u001b[0;34m\u001b[0m\u001b[0;34m\u001b[0m\u001b[0m\n\u001b[1;32m    189\u001b[0m                 \u001b[0merrors\u001b[0m\u001b[0;34m=\u001b[0m\u001b[0mself\u001b[0m\u001b[0;34m.\u001b[0m\u001b[0merrors\u001b[0m\u001b[0;34m,\u001b[0m\u001b[0;34m\u001b[0m\u001b[0;34m\u001b[0m\u001b[0m\n\u001b[0;32m--> 190\u001b[0;31m                 \u001b[0mcompression\u001b[0m\u001b[0;34m=\u001b[0m\u001b[0mdict\u001b[0m\u001b[0;34m(\u001b[0m\u001b[0mself\u001b[0m\u001b[0;34m.\u001b[0m\u001b[0mcompression_args\u001b[0m\u001b[0;34m,\u001b[0m \u001b[0mmethod\u001b[0m\u001b[0;34m=\u001b[0m\u001b[0mself\u001b[0m\u001b[0;34m.\u001b[0m\u001b[0mcompression\u001b[0m\u001b[0;34m)\u001b[0m\u001b[0;34m,\u001b[0m\u001b[0;34m\u001b[0m\u001b[0;34m\u001b[0m\u001b[0m\n\u001b[0m\u001b[1;32m    191\u001b[0m             )\n\u001b[1;32m    192\u001b[0m             \u001b[0mclose\u001b[0m \u001b[0;34m=\u001b[0m \u001b[0;32mTrue\u001b[0m\u001b[0;34m\u001b[0m\u001b[0;34m\u001b[0m\u001b[0m\n",
      "\u001b[0;32m/usr/local/Caskroom/miniconda/base/lib/python3.7/site-packages/pandas/io/common.py\u001b[0m in \u001b[0;36mget_handle\u001b[0;34m(path_or_buf, mode, encoding, compression, memory_map, is_text, errors)\u001b[0m\n\u001b[1;32m    491\u001b[0m         \u001b[0;32mif\u001b[0m \u001b[0mencoding\u001b[0m\u001b[0;34m:\u001b[0m\u001b[0;34m\u001b[0m\u001b[0;34m\u001b[0m\u001b[0m\n\u001b[1;32m    492\u001b[0m             \u001b[0;31m# Encoding\u001b[0m\u001b[0;34m\u001b[0m\u001b[0;34m\u001b[0m\u001b[0;34m\u001b[0m\u001b[0m\n\u001b[0;32m--> 493\u001b[0;31m             \u001b[0mf\u001b[0m \u001b[0;34m=\u001b[0m \u001b[0mopen\u001b[0m\u001b[0;34m(\u001b[0m\u001b[0mpath_or_buf\u001b[0m\u001b[0;34m,\u001b[0m \u001b[0mmode\u001b[0m\u001b[0;34m,\u001b[0m \u001b[0mencoding\u001b[0m\u001b[0;34m=\u001b[0m\u001b[0mencoding\u001b[0m\u001b[0;34m,\u001b[0m \u001b[0merrors\u001b[0m\u001b[0;34m=\u001b[0m\u001b[0merrors\u001b[0m\u001b[0;34m,\u001b[0m \u001b[0mnewline\u001b[0m\u001b[0;34m=\u001b[0m\u001b[0;34m\"\"\u001b[0m\u001b[0;34m)\u001b[0m\u001b[0;34m\u001b[0m\u001b[0;34m\u001b[0m\u001b[0m\n\u001b[0m\u001b[1;32m    494\u001b[0m         \u001b[0;32melif\u001b[0m \u001b[0mis_text\u001b[0m\u001b[0;34m:\u001b[0m\u001b[0;34m\u001b[0m\u001b[0;34m\u001b[0m\u001b[0m\n\u001b[1;32m    495\u001b[0m             \u001b[0;31m# No explicit encoding\u001b[0m\u001b[0;34m\u001b[0m\u001b[0;34m\u001b[0m\u001b[0;34m\u001b[0m\u001b[0m\n",
      "\u001b[0;31mFileNotFoundError\u001b[0m: [Errno 2] No such file or directory: './rank_result/click_rank_result.csv'"
     ]
    }
   ],
   "source": [
    "# generate intermediate file\n",
    "from generate_experiment_img import *\n",
    "from rank_utility import *\n",
    "# generate grid img\n",
    "# click_rank_files = [f for f in os.listdir(data_path) if \"click_rank\" in f]\n",
    "# for file_name in click_rank_files:\n",
    "#     generate_grid_iamge(get_grid_image_order(data_path, file_name))\n",
    "# generate rank\n",
    "# - click rank\n",
    "click_rank_files = [f for f in os.listdir(data_path) if \"click_rank\" in f]\n",
    "generate_click_rank(data_path, click_rank_files)\n",
    "# - general rank\n",
    "pairwise_rank_files = [f for f in os.listdir(data_path) if \"pairwise_rank\" in f]\n",
    "generate_pairwise_rank(data_path, pairwise_rank_files)"
   ]
  },
  {
   "cell_type": "code",
   "execution_count": 2,
   "metadata": {
    "tags": []
   },
   "outputs": [
    {
     "output_type": "error",
     "ename": "FileNotFoundError",
     "evalue": "[Errno 2] No such file or directory: 'exp-img/mr_grid_1.jpg'",
     "traceback": [
      "\u001b[0;31m---------------------------------------------------------------------------\u001b[0m",
      "\u001b[0;31mFileNotFoundError\u001b[0m                         Traceback (most recent call last)",
      "\u001b[0;32m<ipython-input-2-c79124c0f708>\u001b[0m in \u001b[0;36m<module>\u001b[0;34m\u001b[0m\n\u001b[1;32m      2\u001b[0m \u001b[0mname\u001b[0m \u001b[0;34m=\u001b[0m \u001b[0;34m'mr'\u001b[0m\u001b[0;34m\u001b[0m\u001b[0;34m\u001b[0m\u001b[0m\n\u001b[1;32m      3\u001b[0m \u001b[0mexp\u001b[0m \u001b[0;34m=\u001b[0m \u001b[0;34m'grid_1'\u001b[0m\u001b[0;34m\u001b[0m\u001b[0;34m\u001b[0m\u001b[0m\n\u001b[0;32m----> 4\u001b[0;31m \u001b[0mexp_img\u001b[0m \u001b[0;34m=\u001b[0m \u001b[0mmpimg\u001b[0m\u001b[0;34m.\u001b[0m\u001b[0mimread\u001b[0m\u001b[0;34m(\u001b[0m\u001b[0mexp_img_path\u001b[0m \u001b[0;34m+\u001b[0m \u001b[0mname\u001b[0m \u001b[0;34m+\u001b[0m \u001b[0;34m'_'\u001b[0m \u001b[0;34m+\u001b[0m \u001b[0mexp\u001b[0m \u001b[0;34m+\u001b[0m \u001b[0;34m'.jpg'\u001b[0m\u001b[0;34m)\u001b[0m\u001b[0;34m\u001b[0m\u001b[0;34m\u001b[0m\u001b[0m\n\u001b[0m\u001b[1;32m      5\u001b[0m \u001b[0mgaze_data\u001b[0m \u001b[0;34m=\u001b[0m \u001b[0mpd\u001b[0m\u001b[0;34m.\u001b[0m\u001b[0mread_json\u001b[0m\u001b[0;34m(\u001b[0m\u001b[0mdata_path\u001b[0m \u001b[0;34m+\u001b[0m \u001b[0mname\u001b[0m \u001b[0;34m+\u001b[0m \u001b[0;34m'_gaze.txt'\u001b[0m\u001b[0;34m,\u001b[0m \u001b[0mlines\u001b[0m\u001b[0;34m=\u001b[0m\u001b[0;32mTrue\u001b[0m\u001b[0;34m)\u001b[0m\u001b[0;34m\u001b[0m\u001b[0;34m\u001b[0m\u001b[0m\n\u001b[1;32m      6\u001b[0m \u001b[0mdata\u001b[0m \u001b[0;34m=\u001b[0m \u001b[0mgaze_data\u001b[0m\u001b[0;34m.\u001b[0m\u001b[0mloc\u001b[0m\u001b[0;34m[\u001b[0m\u001b[0mgaze_data\u001b[0m\u001b[0;34m[\u001b[0m\u001b[0;34m'record_event'\u001b[0m\u001b[0;34m]\u001b[0m \u001b[0;34m==\u001b[0m \u001b[0;34m'gaze_grid_2'\u001b[0m\u001b[0;34m]\u001b[0m\u001b[0;34m\u001b[0m\u001b[0;34m\u001b[0m\u001b[0m\n",
      "\u001b[0;32m/usr/local/Caskroom/miniconda/base/lib/python3.7/site-packages/matplotlib/image.py\u001b[0m in \u001b[0;36mimread\u001b[0;34m(fname, format)\u001b[0m\n\u001b[1;32m   1474\u001b[0m             \u001b[0;32mwith\u001b[0m \u001b[0murllib\u001b[0m\u001b[0;34m.\u001b[0m\u001b[0mrequest\u001b[0m\u001b[0;34m.\u001b[0m\u001b[0murlopen\u001b[0m\u001b[0;34m(\u001b[0m\u001b[0mfname\u001b[0m\u001b[0;34m)\u001b[0m \u001b[0;32mas\u001b[0m \u001b[0mresponse\u001b[0m\u001b[0;34m:\u001b[0m\u001b[0;34m\u001b[0m\u001b[0;34m\u001b[0m\u001b[0m\n\u001b[1;32m   1475\u001b[0m                 \u001b[0;32mreturn\u001b[0m \u001b[0mimread\u001b[0m\u001b[0;34m(\u001b[0m\u001b[0mresponse\u001b[0m\u001b[0;34m,\u001b[0m \u001b[0mformat\u001b[0m\u001b[0;34m=\u001b[0m\u001b[0mext\u001b[0m\u001b[0;34m)\u001b[0m\u001b[0;34m\u001b[0m\u001b[0;34m\u001b[0m\u001b[0m\n\u001b[0;32m-> 1476\u001b[0;31m     \u001b[0;32mwith\u001b[0m \u001b[0mimg_open\u001b[0m\u001b[0;34m(\u001b[0m\u001b[0mfname\u001b[0m\u001b[0;34m)\u001b[0m \u001b[0;32mas\u001b[0m \u001b[0mimage\u001b[0m\u001b[0;34m:\u001b[0m\u001b[0;34m\u001b[0m\u001b[0;34m\u001b[0m\u001b[0m\n\u001b[0m\u001b[1;32m   1477\u001b[0m         return (_pil_png_to_float_array(image)\n\u001b[1;32m   1478\u001b[0m                 \u001b[0;32mif\u001b[0m \u001b[0misinstance\u001b[0m\u001b[0;34m(\u001b[0m\u001b[0mimage\u001b[0m\u001b[0;34m,\u001b[0m \u001b[0mPIL\u001b[0m\u001b[0;34m.\u001b[0m\u001b[0mPngImagePlugin\u001b[0m\u001b[0;34m.\u001b[0m\u001b[0mPngImageFile\u001b[0m\u001b[0;34m)\u001b[0m \u001b[0;32melse\u001b[0m\u001b[0;34m\u001b[0m\u001b[0;34m\u001b[0m\u001b[0m\n",
      "\u001b[0;32m/usr/local/Caskroom/miniconda/base/lib/python3.7/site-packages/PIL/Image.py\u001b[0m in \u001b[0;36mopen\u001b[0;34m(fp, mode)\u001b[0m\n\u001b[1;32m   2876\u001b[0m \u001b[0;34m\u001b[0m\u001b[0m\n\u001b[1;32m   2877\u001b[0m     \u001b[0;32mif\u001b[0m \u001b[0mfilename\u001b[0m\u001b[0;34m:\u001b[0m\u001b[0;34m\u001b[0m\u001b[0;34m\u001b[0m\u001b[0m\n\u001b[0;32m-> 2878\u001b[0;31m         \u001b[0mfp\u001b[0m \u001b[0;34m=\u001b[0m \u001b[0mbuiltins\u001b[0m\u001b[0;34m.\u001b[0m\u001b[0mopen\u001b[0m\u001b[0;34m(\u001b[0m\u001b[0mfilename\u001b[0m\u001b[0;34m,\u001b[0m \u001b[0;34m\"rb\"\u001b[0m\u001b[0;34m)\u001b[0m\u001b[0;34m\u001b[0m\u001b[0;34m\u001b[0m\u001b[0m\n\u001b[0m\u001b[1;32m   2879\u001b[0m         \u001b[0mexclusive_fp\u001b[0m \u001b[0;34m=\u001b[0m \u001b[0;32mTrue\u001b[0m\u001b[0;34m\u001b[0m\u001b[0;34m\u001b[0m\u001b[0m\n\u001b[1;32m   2880\u001b[0m \u001b[0;34m\u001b[0m\u001b[0m\n",
      "\u001b[0;31mFileNotFoundError\u001b[0m: [Errno 2] No such file or directory: 'exp-img/mr_grid_1.jpg'"
     ]
    }
   ],
   "source": [
    "# take grid1 of for example\n",
    "name = 'mr'\n",
    "exp = 'grid_1'\n",
    "exp_img = mpimg.imread(exp_img_path + name + '_' + exp + '.jpg')\n",
    "gaze_data = pd.read_json(data_path + name + '_gaze.txt', lines=True)\n",
    "data = gaze_data.loc[gaze_data['record_event'] == 'gaze_grid_2']\n",
    "sns.scatterplot(x=xn, y=yn, data=data, alpha=0.2)"
   ]
  },
  {
   "cell_type": "code",
   "execution_count": null,
   "metadata": {},
   "outputs": [],
   "source": [
    "data.head()"
   ]
  },
  {
   "cell_type": "code",
   "execution_count": null,
   "metadata": {
    "tags": []
   },
   "outputs": [],
   "source": [
    "# remove outlier\n",
    "data = remove_outlier_by_z(data, xn)\n",
    "data = remove_outlier_by_z(data, yn)\n",
    "sns.scatterplot(x=xn, y=yn, data=data, alpha=0.2)"
   ]
  },
  {
   "cell_type": "code",
   "execution_count": null,
   "metadata": {
    "tags": []
   },
   "outputs": [],
   "source": [
    "# calculate dist, velocity, time passed\n",
    "data['distance'], data['velocity'], data['time_pass'] = calculate_dist_and_veloc(data)"
   ]
  },
  {
   "cell_type": "code",
   "execution_count": null,
   "metadata": {
    "tags": []
   },
   "outputs": [],
   "source": [
    "v = data['velocity'].round(1)\n",
    "print(v.value_counts())\n",
    "sns.distplot(v)"
   ]
  },
  {
   "cell_type": "code",
   "execution_count": null,
   "metadata": {
    "tags": []
   },
   "outputs": [],
   "source": [
    "fixations = generate_IVT_fixation(data, v_th=0.5, d_th=300)\n",
    "fixations_points = np.array([f['centroid'] for f in fixations])\n",
    "durations = [f['duration'] for f in fixations]\n",
    "\n",
    "# fixation point\n",
    "plot = sns.scatterplot(x=fixations_points[:, 0], y=fixations_points[:, 1],\n",
    "                size=300, sizes=(100,200),\n",
    "                hue=durations, alpha=0.8,\n",
    "                legend=False)\n",
    "plt.axis('off')\n",
    "\n",
    "# background image\n",
    "plt.imshow(exp_img, zorder=0, alpha=0.5,\n",
    "           aspect=plot.get_aspect(),\n",
    "           extent=plot.get_xlim() + plot.get_ylim())\n",
    "\n",
    "# draw grid\n",
    "(x_min, x_max) = plot.get_xlim()\n",
    "(y_min, y_max) = plot.get_ylim()\n",
    "# - horizontal\n",
    "hlines_y = [y_min, (y_min + y_max)/2, y_max]\n",
    "plt.hlines(hlines_y, xmin=x_min, xmax=x_max,\n",
    "           zorder=1, alpha=0.3)\n",
    "# - vertical\n",
    "n = (x_max - x_min) / 3\n",
    "plt.vlines([round(x_min + i*n, 4) for i in range(4)],\n",
    "           ymin=y_min, ymax=y_max,\n",
    "           zorder=1, alpha=0.3)\n",
    "\n",
    "# scan path\n",
    "for i, f in enumerate(fixations_points):\n",
    "    if i + 1 == len(fixations): break\n",
    "    nex = fixations_points[i+1]\n",
    "    cur = fixations_points[i]\n",
    "    plt.arrow(cur[0], cur[1], nex[0]-cur[0], nex[1]-cur[1],\n",
    "              alpha=0.2, head_length=50, head_width=25,\n",
    "              zorder=100, length_includes_head=True)\n",
    "    # annotation of order\n",
    "    x_anno = (cur[0] + nex[0])/2\n",
    "    y_anno = (cur[1] + nex[1])/2\n",
    "    b_props = dict(boxstyle='round', facecolor='wheat', alpha=0.5)\n",
    "    plt.text(x=x_anno, y=y_anno, s=i+1, backgroundcolor='white', bbox=b_props, size=6)\n"
   ]
  },
  {
   "cell_type": "code",
   "execution_count": null,
   "metadata": {},
   "outputs": [],
   "source": [
    "sns.distplot(durations)"
   ]
  },
  {
   "cell_type": "markdown",
   "metadata": {},
   "source": [
    "# Batch Analysis"
   ]
  },
  {
   "cell_type": "code",
   "execution_count": 7,
   "metadata": {
    "tags": []
   },
   "outputs": [
    {
     "output_type": "stream",
     "name": "stdout",
     "text": "participants names:  ['lf', 'yx', 'mr', 'jt', 'yz', 'ts', 'lr', 'yq', 'hw', 'mh']\nparticipant num:  10\nstart: lf-gaze_grid_1\nfinish: lf-gaze_grid_1\nstart: lf-gaze_ranking_grid_1\nfinish: lf-gaze_ranking_grid_1\nstart: lf-gaze_grid_2\nfinish: lf-gaze_grid_2\nstart: lf-gaze_ranking_grid_2\nfinish: lf-gaze_ranking_grid_2\nstart: yx-gaze_grid_1\nfinish: yx-gaze_grid_1\nstart: yx-gaze_ranking_grid_1\nfinish: yx-gaze_ranking_grid_1\nstart: yx-gaze_grid_2\nfinish: yx-gaze_grid_2\nstart: yx-gaze_ranking_grid_2\nfinish: yx-gaze_ranking_grid_2\nstart: mr-gaze_grid_1\nfinish: mr-gaze_grid_1\nstart: mr-gaze_ranking_grid_1\nfinish: mr-gaze_ranking_grid_1\nstart: mr-gaze_grid_2\nfinish: mr-gaze_grid_2\nstart: mr-gaze_ranking_grid_2\nfinish: mr-gaze_ranking_grid_2\nstart: jt-gaze_grid_1\nfinish: jt-gaze_grid_1\nstart: jt-gaze_ranking_grid_1\nfinish: jt-gaze_ranking_grid_1\nstart: jt-gaze_grid_2\nfinish: jt-gaze_grid_2\nstart: jt-gaze_ranking_grid_2\nfinish: jt-gaze_ranking_grid_2\nstart: yz-gaze_grid_1\nfinish: yz-gaze_grid_1\nstart: yz-gaze_ranking_grid_1\nfinish: yz-gaze_ranking_grid_1\nstart: yz-gaze_grid_2\nfinish: yz-gaze_grid_2\nstart: yz-gaze_ranking_grid_2\nfinish: yz-gaze_ranking_grid_2\nstart: ts-gaze_grid_1\nfinish: ts-gaze_grid_1\nstart: ts-gaze_ranking_grid_1\nfinish: ts-gaze_ranking_grid_1\nstart: ts-gaze_grid_2\nfinish: ts-gaze_grid_2\nstart: ts-gaze_ranking_grid_2\nfinish: ts-gaze_ranking_grid_2\nstart: lr-gaze_grid_1\nfinish: lr-gaze_grid_1\nstart: lr-gaze_ranking_grid_1\nfinish: lr-gaze_ranking_grid_1\nstart: lr-gaze_grid_2\nfinish: lr-gaze_grid_2\nstart: lr-gaze_ranking_grid_2\nfinish: lr-gaze_ranking_grid_2\nstart: yq-gaze_grid_1\nfinish: yq-gaze_grid_1\nstart: yq-gaze_ranking_grid_1\nfinish: yq-gaze_ranking_grid_1\nstart: yq-gaze_grid_2\nfinish: yq-gaze_grid_2\nstart: yq-gaze_ranking_grid_2\nfinish: yq-gaze_ranking_grid_2\nstart: hw-gaze_grid_1\nfinish: hw-gaze_grid_1\nstart: hw-gaze_ranking_grid_1\nfinish: hw-gaze_ranking_grid_1\nstart: hw-gaze_grid_2\nfinish: hw-gaze_grid_2\nstart: hw-gaze_ranking_grid_2\nfinish: hw-gaze_ranking_grid_2\nstart: mh-gaze_grid_1\nfinish: mh-gaze_grid_1\nstart: mh-gaze_ranking_grid_1\nfinish: mh-gaze_ranking_grid_1\nstart: mh-gaze_grid_2\nfinish: mh-gaze_grid_2\nstart: mh-gaze_ranking_grid_2\nfinish: mh-gaze_ranking_grid_2\n"
    },
    {
     "output_type": "display_data",
     "data": {
      "text/plain": "<Figure size 432x288 with 0 Axes>"
     },
     "metadata": {}
    }
   ],
   "source": [
    "data_path = 'data/'\n",
    "result_path = 'result/'\n",
    "events = ['gaze_grid_1', 'gaze_ranking_grid_1', 'gaze_grid_2', 'gaze_ranking_grid_2']\n",
    "exps = ['gaze_grid_1', 'gaze_grid_2']\n",
    "xn = 'GazeX'\n",
    "yn = 'GazeY'\n",
    "\n",
    "# get participant names\n",
    "names = get_participant_names(data_path)\n",
    "print('participants names: ', names)\n",
    "print('participant num: ', len(names))\n",
    "\n",
    "for name in names:\n",
    "    gaze_data = pd.read_json(data_path + name + '_gaze.txt', lines=True)\n",
    "    for event in events:\n",
    "        # log\n",
    "        print('start: ' + name + '-' + event)\n",
    "        # load data\n",
    "        data = gaze_data.loc[gaze_data['record_event'] == event]\n",
    "        # remove outlier\n",
    "        data = remove_outlier_by_z(data, xn)\n",
    "        data = remove_outlier_by_z(data, yn)\n",
    "        # construct attr\n",
    "        data['distance'], data['velocity'], data['time_pass'] = calculate_dist_and_veloc(data)\n",
    "        # generate fixation\n",
    "        fixations = generate_IVT_fixation(data, v_th=0.5, d_th=300)\n",
    "        fixations_points = np.array([f['centroid'] for f in fixations])\n",
    "        durations = [f['duration'] for f in fixations]\n",
    "        # draw fixation\n",
    "        sns.scatterplot(x=fixations_points[:, 0], y=fixations_points[:, 1],\n",
    "                size=durations, sizes=(100,200),\n",
    "                hue=durations, alpha=0.8)\n",
    "        # draw scan path\n",
    "        for i, f in enumerate(fixations_points):\n",
    "            if i + 1 == len(fixations): break\n",
    "            nex = fixations_points[i+1]\n",
    "            cur = fixations_points[i]\n",
    "            plt.arrow(cur[0], cur[1], nex[0]-cur[0], nex[1]-cur[1],\n",
    "                    alpha=0.2, head_length=50, head_width=25,\n",
    "                    zorder=100, length_includes_head=True)\n",
    "        # export result\n",
    "        plt.savefig(result_path + name + '_' + event + '_plot.png', format='png')\n",
    "        # log\n",
    "        print('finish: ' + name + '-' + event)\n",
    "        plt.clf()"
   ]
  }
 ]
}