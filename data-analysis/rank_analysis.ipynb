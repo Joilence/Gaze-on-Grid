{
 "metadata": {
  "language_info": {
   "codemirror_mode": {
    "name": "ipython",
    "version": 3
   },
   "file_extension": ".py",
   "mimetype": "text/x-python",
   "name": "python",
   "nbconvert_exporter": "python",
   "pygments_lexer": "ipython3",
   "version": "3.7.8-final"
  },
  "orig_nbformat": 2,
  "kernelspec": {
   "name": "python_defaultSpec_1598021428148",
   "display_name": "Python 3.7.8 64-bit ('base': conda)"
  }
 },
 "nbformat": 4,
 "nbformat_minor": 2,
 "cells": [
  {
   "cell_type": "code",
   "execution_count": 1,
   "metadata": {},
   "outputs": [],
   "source": [
    "from scipy.stats import spearmanr"
   ]
  },
  {
   "cell_type": "code",
   "execution_count": 2,
   "metadata": {},
   "outputs": [],
   "source": [
    "r1 = [1, 2, 3, 4, 5]\n",
    "r2 = [2, 3, 1, 2, 3]"
   ]
  },
  {
   "cell_type": "code",
   "execution_count": 3,
   "metadata": {},
   "outputs": [
    {
     "output_type": "execute_result",
     "data": {
      "text/plain": "SpearmanrResult(correlation=0.21081851067789192, pvalue=0.7335793204938506)"
     },
     "metadata": {},
     "execution_count": 3
    }
   ],
   "source": [
    "spearmanr(r1, r2)"
   ]
  },
  {
   "cell_type": "code",
   "execution_count": null,
   "metadata": {},
   "outputs": [],
   "source": [
    "# generate rank\n",
    "if not os.listdir('rank-result'):\n",
    "    from rank_utility import *\n",
    "    # - click rank\n",
    "    click_rank_files = [f for f in os.listdir(data_path) if \"click_rank\" in f]\n",
    "    generate_click_rank(data_path, click_rank_files)\n",
    "    # - general rank\n",
    "    pairwise_rank_files = [f for f in os.listdir(data_path) if \"pairwise_rank\" in f]\n",
    "    generate_pairwise_rank(data_path, pairwise_rank_files)"
   ]
  }
 ]
}