{
 "metadata": {
  "language_info": {
   "codemirror_mode": {
    "name": "ipython",
    "version": 3
   },
   "file_extension": ".py",
   "mimetype": "text/x-python",
   "name": "python",
   "nbconvert_exporter": "python",
   "pygments_lexer": "ipython3",
   "version": "3.7.8-final"
  },
  "orig_nbformat": 2,
  "kernelspec": {
   "name": "python_defaultSpec_1598561871074",
   "display_name": "Python 3.7.8 64-bit ('base': conda)"
  }
 },
 "nbformat": 4,
 "nbformat_minor": 2,
 "cells": [
  {
   "cell_type": "code",
   "execution_count": 1,
   "metadata": {
    "tags": []
   },
   "outputs": [
    {
     "output_type": "stream",
     "name": "stdout",
     "text": "participants names:  ['hu', 'mh', 'an', 'mr', 'xiao', 'lr', 'yx', 'hw', 'huy', 'co', 'yz', 'lf', 'jt', 'ts', 'dao', 'yq']\nparticipant num:  16\n"
    }
   ],
   "source": [
    "import pandas as pd\n",
    "import seaborn as sns\n",
    "import ast\n",
    "from scipy.stats import spearmanr\n",
    "from preprocessing import get_participant_names\n",
    "\n",
    "# global variables\n",
    "data_path = 'data/'\n",
    "rank_result_path = 'rank-result/'\n",
    "\n",
    "# get participant names\n",
    "names = get_participant_names(data_path)\n",
    "print('participants names: ', names)\n",
    "print('participant num: ', len(names))\n",
    "\n",
    "# generate rank\n",
    "if not os.listdir(rank_result_path):\n",
    "    from rank_utility import *\n",
    "    # - click rank\n",
    "    click_rank_files = [f for f in os.listdir(data_path) if \"click_rank\" in f]\n",
    "    generate_click_rank(data_path, click_rank_files)\n",
    "    # - general rank\n",
    "    pairwise_rank_files = [f for f in os.listdir(data_path) if \"pairwise_rank\" in f]\n",
    "    generate_pairwise_rank(data_path, pairwise_rank_files)"
   ]
  },
  {
   "cell_type": "markdown",
   "metadata": {},
   "source": [
    "# Single Analysis"
   ]
  },
  {
   "cell_type": "code",
   "execution_count": 2,
   "metadata": {
    "tags": []
   },
   "outputs": [
    {
     "output_type": "stream",
     "name": "stdout",
     "text": "tester               object\nclick_grid_1_rank    object\nclick_grid_2_rank    object\ndtype: object \n\ntester             object\npwc_grid_1_rank    object\npwc_grid_1_2       object\npwc_grid_2_rank    object\npwc_grid_1_w       object\ndtype: object\n"
    }
   ],
   "source": [
    "click_rank_data = pd.read_csv(rank_result_path + 'click_rank_result.csv')\n",
    "pairwise_rank_data = pd.read_csv(rank_result_path + 'pairwise_rank_result.csv')\n",
    "print(click_rank_data.dtypes, '\\n')\n",
    "print(pairwise_rank_data.dtypes)"
   ]
  },
  {
   "cell_type": "code",
   "execution_count": 3,
   "metadata": {
    "tags": []
   },
   "outputs": [
    {
     "output_type": "stream",
     "name": "stdout",
     "text": "SpearmanrResult(correlation=0.4285714285714286, pvalue=0.3965014577259474)\nSpearmanrResult(correlation=0.4285714285714286, pvalue=0.3965014577259474)\n0.4285714285714286 0.3965014577259474\n"
    }
   ],
   "source": [
    "name = 'huy'\n",
    "\n",
    "row = click_rank_data[click_rank_data['tester'] == name]\n",
    "clk_1 = ast.literal_eval(row['click_grid_1_rank'].values[0])\n",
    "clk_2 = ast.literal_eval(row['click_grid_2_rank'].values[0])\n",
    "\n",
    "row = pairwise_rank_data[pairwise_rank_data['tester'] == name]\n",
    "pw_1 = ast.literal_eval(row['pwc_grid_1_rank'].values[0])[0:-2]\n",
    "pw_2 = ast.literal_eval(row['pwc_grid_2_rank'].values[0])[0:-2]\n",
    "\n",
    "cor_1, pval_1 = spearmanr(clk_1, pw_1)\n",
    "print(spearmanr(clk_1, pw_1))\n",
    "print(spearmanr(pw_1, clk_1))\n",
    "print(cor_1, pval_1)"
   ]
  },
  {
   "cell_type": "markdown",
   "metadata": {},
   "source": [
    "# Batch Analysis"
   ]
  },
  {
   "cell_type": "code",
   "execution_count": 4,
   "metadata": {},
   "outputs": [
    {
     "output_type": "execute_result",
     "data": {
      "text/plain": "    name  grid_1_cor  grid_1_pval  grid_2_cor  grid_2_pval\n0     hu    0.942857     0.004805    0.942857     0.004805\n1     mh   -0.085714     0.871743   -0.142857     0.787172\n2     an    0.942857     0.004805    0.942857     0.004805\n3     mr    1.000000     0.000000    0.771429     0.072397\n4   xiao    0.257143     0.622787    0.257143     0.622787\n5     lr    1.000000     0.000000    0.657143     0.156175\n6     yx    0.942857     0.004805   -0.200000     0.704000\n7     hw    0.828571     0.041563    0.714286     0.110787\n8    huy    0.428571     0.396501    0.942857     0.004805\n9     co   -0.200000     0.704000    0.428571     0.396501\n10    yz    0.542857     0.265703    1.000000     0.000000\n11    lf    0.142857     0.787172    1.000000     0.000000\n12    jt    0.485714     0.328723   -0.085714     0.871743\n13    ts    0.600000     0.208000    0.200000     0.704000\n14   dao    0.771429     0.072397    0.942857     0.004805\n15    yq    1.000000     0.000000    0.542857     0.265703",
      "text/html": "<div>\n<style scoped>\n    .dataframe tbody tr th:only-of-type {\n        vertical-align: middle;\n    }\n\n    .dataframe tbody tr th {\n        vertical-align: top;\n    }\n\n    .dataframe thead th {\n        text-align: right;\n    }\n</style>\n<table border=\"1\" class=\"dataframe\">\n  <thead>\n    <tr style=\"text-align: right;\">\n      <th></th>\n      <th>name</th>\n      <th>grid_1_cor</th>\n      <th>grid_1_pval</th>\n      <th>grid_2_cor</th>\n      <th>grid_2_pval</th>\n    </tr>\n  </thead>\n  <tbody>\n    <tr>\n      <th>0</th>\n      <td>hu</td>\n      <td>0.942857</td>\n      <td>0.004805</td>\n      <td>0.942857</td>\n      <td>0.004805</td>\n    </tr>\n    <tr>\n      <th>1</th>\n      <td>mh</td>\n      <td>-0.085714</td>\n      <td>0.871743</td>\n      <td>-0.142857</td>\n      <td>0.787172</td>\n    </tr>\n    <tr>\n      <th>2</th>\n      <td>an</td>\n      <td>0.942857</td>\n      <td>0.004805</td>\n      <td>0.942857</td>\n      <td>0.004805</td>\n    </tr>\n    <tr>\n      <th>3</th>\n      <td>mr</td>\n      <td>1.000000</td>\n      <td>0.000000</td>\n      <td>0.771429</td>\n      <td>0.072397</td>\n    </tr>\n    <tr>\n      <th>4</th>\n      <td>xiao</td>\n      <td>0.257143</td>\n      <td>0.622787</td>\n      <td>0.257143</td>\n      <td>0.622787</td>\n    </tr>\n    <tr>\n      <th>5</th>\n      <td>lr</td>\n      <td>1.000000</td>\n      <td>0.000000</td>\n      <td>0.657143</td>\n      <td>0.156175</td>\n    </tr>\n    <tr>\n      <th>6</th>\n      <td>yx</td>\n      <td>0.942857</td>\n      <td>0.004805</td>\n      <td>-0.200000</td>\n      <td>0.704000</td>\n    </tr>\n    <tr>\n      <th>7</th>\n      <td>hw</td>\n      <td>0.828571</td>\n      <td>0.041563</td>\n      <td>0.714286</td>\n      <td>0.110787</td>\n    </tr>\n    <tr>\n      <th>8</th>\n      <td>huy</td>\n      <td>0.428571</td>\n      <td>0.396501</td>\n      <td>0.942857</td>\n      <td>0.004805</td>\n    </tr>\n    <tr>\n      <th>9</th>\n      <td>co</td>\n      <td>-0.200000</td>\n      <td>0.704000</td>\n      <td>0.428571</td>\n      <td>0.396501</td>\n    </tr>\n    <tr>\n      <th>10</th>\n      <td>yz</td>\n      <td>0.542857</td>\n      <td>0.265703</td>\n      <td>1.000000</td>\n      <td>0.000000</td>\n    </tr>\n    <tr>\n      <th>11</th>\n      <td>lf</td>\n      <td>0.142857</td>\n      <td>0.787172</td>\n      <td>1.000000</td>\n      <td>0.000000</td>\n    </tr>\n    <tr>\n      <th>12</th>\n      <td>jt</td>\n      <td>0.485714</td>\n      <td>0.328723</td>\n      <td>-0.085714</td>\n      <td>0.871743</td>\n    </tr>\n    <tr>\n      <th>13</th>\n      <td>ts</td>\n      <td>0.600000</td>\n      <td>0.208000</td>\n      <td>0.200000</td>\n      <td>0.704000</td>\n    </tr>\n    <tr>\n      <th>14</th>\n      <td>dao</td>\n      <td>0.771429</td>\n      <td>0.072397</td>\n      <td>0.942857</td>\n      <td>0.004805</td>\n    </tr>\n    <tr>\n      <th>15</th>\n      <td>yq</td>\n      <td>1.000000</td>\n      <td>0.000000</td>\n      <td>0.542857</td>\n      <td>0.265703</td>\n    </tr>\n  </tbody>\n</table>\n</div>"
     },
     "metadata": {},
     "execution_count": 4
    }
   ],
   "source": [
    "result = []\n",
    "\n",
    "for name in names:\n",
    "    row = click_rank_data[click_rank_data['tester'] == name]\n",
    "    clk_1 = ast.literal_eval(row['click_grid_1_rank'].values[0])\n",
    "    clk_2 = ast.literal_eval(row['click_grid_2_rank'].values[0])\n",
    "\n",
    "    row = pairwise_rank_data[pairwise_rank_data['tester'] == name]\n",
    "    pw_1 = ast.literal_eval(row['pwc_grid_1_rank'].values[0])[0:-2]\n",
    "    pw_2 = ast.literal_eval(row['pwc_grid_2_rank'].values[0])[0:-2]\n",
    "    \n",
    "    cor_1, pval_1 = spearmanr(clk_1, pw_1)\n",
    "    cor_2, pval_2 = spearmanr(clk_2, pw_2)\n",
    "    \n",
    "    result.append({'name': name,\n",
    "                   'grid_1_cor': cor_1,\n",
    "                   'grid_1_pval': pval_1,\n",
    "                   'grid_2_cor': cor_2,\n",
    "                   'grid_2_pval': pval_2,})\n",
    "\n",
    "result = pd.DataFrame(result, columns=['name', 'grid_1_cor', 'grid_1_pval', 'grid_2_cor', 'grid_2_pval'])\n",
    "result"
   ]
  }
 ]
}